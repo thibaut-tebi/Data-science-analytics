{
 "cells": [
  {
   "cell_type": "code",
   "execution_count": 1,
   "metadata": {},
   "outputs": [],
   "source": [
    "def caesar_cipher(message, shift, encrypt=True):\n",
    "    \"\"\"\n",
    "    Encrypts or decrypts a message using Caesar's Cipher with a given shift.\n",
    "\n",
    "    Parameters:\n",
    "    message (str): The message to encrypt or decrypt.\n",
    "    shift (int): The number of positions to shift the letters in the alphabet.\n",
    "    encrypt (bool): If True, the message will be encrypted. If False, the message will be decrypted.\n",
    "\n",
    "    Returns:\n",
    "    str: The encrypted or decrypted message.\n",
    "    \"\"\"\n",
    "    if encrypt:\n",
    "        shift = -shift  # reverse the shift for encryption\n",
    "\n",
    "    result = ''\n",
    "    for char in message:\n",
    "        if char.isalpha():\n",
    "            # shift the character by the given amount\n",
    "            char_code = ord(char.upper()) + shift\n",
    "            if char.isupper():\n",
    "                # handle uppercase characters\n",
    "                if char_code < 65:\n",
    "                    char_code += 26\n",
    "                elif char_code > 90:\n",
    "                    char_code -= 26\n",
    "            else:\n",
    "                # handle lowercase characters\n",
    "                if char_code < 97:\n",
    "                    char_code += 26\n",
    "                elif char_code > 122:\n",
    "                    char_code -= 26\n",
    "            result += chr(char_code)\n",
    "        else:\n",
    "            result += char\n",
    "\n",
    "    return result\n"
   ]
  },
  {
   "cell_type": "code",
   "execution_count": 2,
   "metadata": {},
   "outputs": [
    {
     "name": "stdout",
     "output_type": "stream",
     "text": [
      "QEB NRFZH YOLTK CLU GRJMP LSBO QEB IXWV ALD\n"
     ]
    }
   ],
   "source": [
    "message = 'THE QUICK BROWN FOX JUMPS OVER THE LAZY DOG'\n",
    "shift = 3\n",
    "encrypted_message = caesar_cipher(message, shift, encrypt=True)\n",
    "print(encrypted_message)  # outputs: QEB NRFZH YOLTK CLU GRJMP LSBO QEB IXWV ALD\n"
   ]
  },
  {
   "cell_type": "code",
   "execution_count": 3,
   "metadata": {},
   "outputs": [
    {
     "name": "stdout",
     "output_type": "stream",
     "text": [
      "THE QUICK BROWN FOX JUMPS OVER THE LAZY DOG\n"
     ]
    }
   ],
   "source": [
    "encrypted_message = 'QEB NRFZH YOLTK CLU GRJMP LSBO QEB IXWV ALD'\n",
    "shift = 3\n",
    "decrypted_message = caesar_cipher(encrypted_message, shift, encrypt=False)\n",
    "print(decrypted_message)  # outputs: THE QUICK BROWN FOX JUMPS OVER THE LAZY DOG\n"
   ]
  }
 ],
 "metadata": {
  "kernelspec": {
   "display_name": "Python 3",
   "language": "python",
   "name": "python3"
  },
  "language_info": {
   "codemirror_mode": {
    "name": "ipython",
    "version": 3
   },
   "file_extension": ".py",
   "mimetype": "text/x-python",
   "name": "python",
   "nbconvert_exporter": "python",
   "pygments_lexer": "ipython3",
   "version": "3.9.13"
  },
  "orig_nbformat": 4,
  "vscode": {
   "interpreter": {
    "hash": "9975c25e2071d0ab0ae47408f6c8e7b387753f05994e32d23fab613ff104d39c"
   }
  }
 },
 "nbformat": 4,
 "nbformat_minor": 2
}
